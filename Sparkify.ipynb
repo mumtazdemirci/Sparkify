{
 "cells": [
  {
   "cell_type": "markdown",
   "metadata": {},
   "source": [
    "# Sparkify Project Workspace\n",
    "This workspace contains a tiny subset (128MB) of the full dataset available (12GB). Feel free to use this workspace to build your project, or to explore a smaller subset with Spark before deploying your cluster on the cloud. Instructions for setting up your Spark cluster is included in the last lesson of the Extracurricular Spark Course content.\n",
    "\n",
    "You can follow the steps below to guide your data analysis and model building portion of this project."
   ]
  },
  {
   "cell_type": "code",
   "execution_count": 1,
   "metadata": {},
   "outputs": [],
   "source": [
    "# import libraries\n",
    "import re\n",
    "%matplotlib inline\n",
    "import matplotlib.pyplot as plt\n",
    "import numpy as np\n",
    "import pandas as pd\n",
    "import seaborn as sns\n",
    "import datetime\n",
    "\n",
    "from pyspark.sql import SparkSession\n",
    "from pyspark.ml.evaluation import MulticlassClassificationEvaluator\n",
    "from pyspark.ml.classification import RandomForestClassifier, LogisticRegression, GBTClassifier, LinearSVC\n",
    "from pyspark.sql.types import IntegerType\n",
    "from pyspark.ml.classification import LogisticRegression, GBTClassifier,LinearSVC\n",
    "from pyspark.sql.functions import col, udf\n",
    "from pyspark.ml.feature import VectorAssembler, StandardScaler\n",
    "from pyspark.ml.tuning import CrossValidator, ParamGridBuilder\n",
    "from pyspark.sql.functions import avg, explode, concat, lit, min, max, split, udf, isnull, col, desc,isnan, udf, isnull,sum,isnan,when, count, countDistinct,sum as Fsum,max as Fmax\n",
    "from pyspark.sql import Window"
   ]
  },
  {
   "cell_type": "code",
   "execution_count": 2,
   "metadata": {},
   "outputs": [],
   "source": [
    "# create a Spark session\n",
    "spark = SparkSession.builder \\\n",
    "    .master(\"local\") \\\n",
    "    .appName(\"capstone_project\") \\\n",
    "    .getOrCreate()"
   ]
  },
  {
   "cell_type": "markdown",
   "metadata": {},
   "source": [
    "# Load and Clean Dataset\n",
    "In this workspace, the mini-dataset file is `mini_sparkify_event_data.json`. Load and clean the dataset, checking for invalid or missing data - for example, records without userids or sessionids. "
   ]
  },
  {
   "cell_type": "code",
   "execution_count": 3,
   "metadata": {},
   "outputs": [],
   "source": [
    "#data_path = \"mini_sparkify_event_data.json\"\n",
    "#user_event = spark.read.json(data_path)\n",
    "#df = user_event"
   ]
  },
  {
   "cell_type": "code",
   "execution_count": 4,
   "metadata": {},
   "outputs": [],
   "source": [
    "sparkify_data = 'mini_sparkify_event_data.json'\n",
    "df = spark.read.json(sparkify_data)"
   ]
  },
  {
   "cell_type": "code",
   "execution_count": 5,
   "metadata": {},
   "outputs": [
    {
     "name": "stdout",
     "output_type": "stream",
     "text": [
      "root\n",
      " |-- artist: string (nullable = true)\n",
      " |-- auth: string (nullable = true)\n",
      " |-- firstName: string (nullable = true)\n",
      " |-- gender: string (nullable = true)\n",
      " |-- itemInSession: long (nullable = true)\n",
      " |-- lastName: string (nullable = true)\n",
      " |-- length: double (nullable = true)\n",
      " |-- level: string (nullable = true)\n",
      " |-- location: string (nullable = true)\n",
      " |-- method: string (nullable = true)\n",
      " |-- page: string (nullable = true)\n",
      " |-- registration: long (nullable = true)\n",
      " |-- sessionId: long (nullable = true)\n",
      " |-- song: string (nullable = true)\n",
      " |-- status: long (nullable = true)\n",
      " |-- ts: long (nullable = true)\n",
      " |-- userAgent: string (nullable = true)\n",
      " |-- userId: string (nullable = true)\n",
      "\n"
     ]
    }
   ],
   "source": [
    "df.printSchema()"
   ]
  },
  {
   "cell_type": "code",
   "execution_count": 6,
   "metadata": {},
   "outputs": [
    {
     "name": "stdout",
     "output_type": "stream",
     "text": [
      "+----------------+---------+---------+------+-------------+--------+---------+-----+--------------------+------+--------+-------------+---------+--------------------+------+-------------+--------------------+------+\n",
      "|          artist|     auth|firstName|gender|itemInSession|lastName|   length|level|            location|method|    page| registration|sessionId|                song|status|           ts|           userAgent|userId|\n",
      "+----------------+---------+---------+------+-------------+--------+---------+-----+--------------------+------+--------+-------------+---------+--------------------+------+-------------+--------------------+------+\n",
      "|  Martha Tilston|Logged In|    Colin|     M|           50| Freeman|277.89016| paid|     Bakersfield, CA|   PUT|NextSong|1538173362000|       29|           Rockpools|   200|1538352117000|Mozilla/5.0 (Wind...|    30|\n",
      "|Five Iron Frenzy|Logged In|    Micah|     M|           79|    Long|236.09424| free|Boston-Cambridge-...|   PUT|NextSong|1538331630000|        8|              Canada|   200|1538352180000|\"Mozilla/5.0 (Win...|     9|\n",
      "|    Adam Lambert|Logged In|    Colin|     M|           51| Freeman| 282.8273| paid|     Bakersfield, CA|   PUT|NextSong|1538173362000|       29|   Time For Miracles|   200|1538352394000|Mozilla/5.0 (Wind...|    30|\n",
      "|          Enigma|Logged In|    Micah|     M|           80|    Long|262.71302| free|Boston-Cambridge-...|   PUT|NextSong|1538331630000|        8|Knocking On Forbi...|   200|1538352416000|\"Mozilla/5.0 (Win...|     9|\n",
      "|       Daft Punk|Logged In|    Colin|     M|           52| Freeman|223.60771| paid|     Bakersfield, CA|   PUT|NextSong|1538173362000|       29|Harder Better Fas...|   200|1538352676000|Mozilla/5.0 (Wind...|    30|\n",
      "+----------------+---------+---------+------+-------------+--------+---------+-----+--------------------+------+--------+-------------+---------+--------------------+------+-------------+--------------------+------+\n",
      "only showing top 5 rows\n",
      "\n"
     ]
    }
   ],
   "source": [
    "df.show(5)"
   ]
  },
  {
   "cell_type": "code",
   "execution_count": 7,
   "metadata": {},
   "outputs": [
    {
     "name": "stdout",
     "output_type": "stream",
     "text": [
      "286500\n"
     ]
    }
   ],
   "source": [
    "# count the number of rows\n",
    "print(df.count())"
   ]
  },
  {
   "cell_type": "code",
   "execution_count": 8,
   "metadata": {},
   "outputs": [
    {
     "name": "stdout",
     "output_type": "stream",
     "text": [
      "18\n"
     ]
    }
   ],
   "source": [
    "# count the number of columns\n",
    "print(len(df.columns))"
   ]
  },
  {
   "cell_type": "code",
   "execution_count": 9,
   "metadata": {},
   "outputs": [],
   "source": [
    "def info(df):\n",
    "    df_info = pd.DataFrame(columns = ['Feature','#Nullvalues','#Empetystring','#NonNullvalues','%Non-nullvalues'])\n",
    "    #Check the number of null rows in each column\n",
    "    #print(\"Feature : Null row count : emptystring_count : Non-Null row count: Non-null precentage\")\n",
    "    i = 0\n",
    "    row_count = df.count()\n",
    "    for col in df.columns:\n",
    "        null_count = df.filter(isnull(df[col])).count()\n",
    "        emptystring_count = df.filter(df[col].isin('')).count()\n",
    "        df_info.loc[i] = [col,null_count,emptystring_count,(row_count-null_count),(row_count-null_count)/row_count]\n",
    "        i +=1\n",
    "    print(df_info)"
   ]
  },
  {
   "cell_type": "code",
   "execution_count": 10,
   "metadata": {},
   "outputs": [
    {
     "name": "stdout",
     "output_type": "stream",
     "text": [
      "          Feature #Nullvalues #Empetystring #NonNullvalues  %Non-nullvalues\n",
      "0          artist       58392             0         228108         0.796188\n",
      "1            auth           0             0         286500         1.000000\n",
      "2       firstName        8346             0         278154         0.970869\n",
      "3          gender        8346             0         278154         0.970869\n",
      "4   itemInSession           0             0         286500         1.000000\n",
      "5        lastName        8346             0         278154         0.970869\n",
      "6          length       58392             0         228108         0.796188\n",
      "7           level           0             0         286500         1.000000\n",
      "8        location        8346             0         278154         0.970869\n",
      "9          method           0             0         286500         1.000000\n",
      "10           page           0             0         286500         1.000000\n",
      "11   registration        8346             0         278154         0.970869\n",
      "12      sessionId           0             0         286500         1.000000\n",
      "13           song       58392             0         228108         0.796188\n",
      "14         status           0             0         286500         1.000000\n",
      "15             ts           0             0         286500         1.000000\n",
      "16      userAgent        8346             0         278154         0.970869\n",
      "17         userId           0          8346         286500         1.000000\n"
     ]
    }
   ],
   "source": [
    "info(df)"
   ]
  },
  {
   "cell_type": "code",
   "execution_count": 11,
   "metadata": {},
   "outputs": [],
   "source": [
    "# drop any cells with missing user id or session id\n",
    "df = df.dropna(how = 'any', subset = ['userId', 'sessionId'])"
   ]
  },
  {
   "cell_type": "code",
   "execution_count": 12,
   "metadata": {},
   "outputs": [],
   "source": [
    "#Remove records with empty userId\n",
    "df = df.filter(df['userId'] != '')"
   ]
  },
  {
   "cell_type": "code",
   "execution_count": 13,
   "metadata": {},
   "outputs": [
    {
     "name": "stdout",
     "output_type": "stream",
     "text": [
      "(278154, 18)\n"
     ]
    }
   ],
   "source": [
    "print((df.count(), len(df.columns)))"
   ]
  },
  {
   "cell_type": "code",
   "execution_count": 14,
   "metadata": {},
   "outputs": [],
   "source": [
    "# Change the time format of ts and registration in the dataframe\n",
    "change_time_format = udf(lambda x: datetime.datetime.fromtimestamp(x / 1000.0).strftime(\"%Y-%m-%d %H:%M:%S\"))\n",
    "df = df.withColumn(\"tsDateColumn\", change_time_format(df.ts))\n",
    "df = df.withColumn(\"registrationDateColumn\", change_time_format(df.registration))"
   ]
  },
  {
   "cell_type": "markdown",
   "metadata": {},
   "source": [
    "# Exploratory Data Analysis\n"
   ]
  },
  {
   "cell_type": "code",
   "execution_count": 15,
   "metadata": {},
   "outputs": [],
   "source": [
    "#set seaborn style\n",
    "sns.set(style=\"whitegrid\")"
   ]
  },
  {
   "cell_type": "code",
   "execution_count": 16,
   "metadata": {},
   "outputs": [
    {
     "data": {
      "text/html": [
       "<div>\n",
       "<style scoped>\n",
       "    .dataframe tbody tr th:only-of-type {\n",
       "        vertical-align: middle;\n",
       "    }\n",
       "\n",
       "    .dataframe tbody tr th {\n",
       "        vertical-align: top;\n",
       "    }\n",
       "\n",
       "    .dataframe thead th {\n",
       "        text-align: right;\n",
       "    }\n",
       "</style>\n",
       "<table border=\"1\" class=\"dataframe\">\n",
       "  <thead>\n",
       "    <tr style=\"text-align: right;\">\n",
       "      <th></th>\n",
       "      <th>itemInSession</th>\n",
       "      <th>length</th>\n",
       "      <th>registration</th>\n",
       "      <th>sessionId</th>\n",
       "      <th>status</th>\n",
       "      <th>ts</th>\n",
       "    </tr>\n",
       "  </thead>\n",
       "  <tbody>\n",
       "    <tr>\n",
       "      <th>count</th>\n",
       "      <td>278154.000000</td>\n",
       "      <td>228108.000000</td>\n",
       "      <td>2.781540e+05</td>\n",
       "      <td>278154.000000</td>\n",
       "      <td>278154.000000</td>\n",
       "      <td>2.781540e+05</td>\n",
       "    </tr>\n",
       "    <tr>\n",
       "      <th>mean</th>\n",
       "      <td>114.899182</td>\n",
       "      <td>249.117182</td>\n",
       "      <td>1.535359e+12</td>\n",
       "      <td>1042.561624</td>\n",
       "      <td>209.103216</td>\n",
       "      <td>1.540959e+12</td>\n",
       "    </tr>\n",
       "    <tr>\n",
       "      <th>std</th>\n",
       "      <td>129.851729</td>\n",
       "      <td>99.235179</td>\n",
       "      <td>3.291322e+09</td>\n",
       "      <td>726.501036</td>\n",
       "      <td>30.151389</td>\n",
       "      <td>1.506829e+09</td>\n",
       "    </tr>\n",
       "    <tr>\n",
       "      <th>min</th>\n",
       "      <td>0.000000</td>\n",
       "      <td>0.783220</td>\n",
       "      <td>1.521381e+12</td>\n",
       "      <td>1.000000</td>\n",
       "      <td>200.000000</td>\n",
       "      <td>1.538352e+12</td>\n",
       "    </tr>\n",
       "    <tr>\n",
       "      <th>25%</th>\n",
       "      <td>27.000000</td>\n",
       "      <td>199.888530</td>\n",
       "      <td>1.533522e+12</td>\n",
       "      <td>338.000000</td>\n",
       "      <td>200.000000</td>\n",
       "      <td>1.539699e+12</td>\n",
       "    </tr>\n",
       "    <tr>\n",
       "      <th>50%</th>\n",
       "      <td>70.000000</td>\n",
       "      <td>234.500770</td>\n",
       "      <td>1.536664e+12</td>\n",
       "      <td>1017.000000</td>\n",
       "      <td>200.000000</td>\n",
       "      <td>1.540934e+12</td>\n",
       "    </tr>\n",
       "    <tr>\n",
       "      <th>75%</th>\n",
       "      <td>157.000000</td>\n",
       "      <td>277.158730</td>\n",
       "      <td>1.537672e+12</td>\n",
       "      <td>1675.000000</td>\n",
       "      <td>200.000000</td>\n",
       "      <td>1.542268e+12</td>\n",
       "    </tr>\n",
       "    <tr>\n",
       "      <th>max</th>\n",
       "      <td>1321.000000</td>\n",
       "      <td>3024.665670</td>\n",
       "      <td>1.543247e+12</td>\n",
       "      <td>2474.000000</td>\n",
       "      <td>404.000000</td>\n",
       "      <td>1.543799e+12</td>\n",
       "    </tr>\n",
       "  </tbody>\n",
       "</table>\n",
       "</div>"
      ],
      "text/plain": [
       "       itemInSession         length  registration      sessionId  \\\n",
       "count  278154.000000  228108.000000  2.781540e+05  278154.000000   \n",
       "mean      114.899182     249.117182  1.535359e+12    1042.561624   \n",
       "std       129.851729      99.235179  3.291322e+09     726.501036   \n",
       "min         0.000000       0.783220  1.521381e+12       1.000000   \n",
       "25%        27.000000     199.888530  1.533522e+12     338.000000   \n",
       "50%        70.000000     234.500770  1.536664e+12    1017.000000   \n",
       "75%       157.000000     277.158730  1.537672e+12    1675.000000   \n",
       "max      1321.000000    3024.665670  1.543247e+12    2474.000000   \n",
       "\n",
       "              status            ts  \n",
       "count  278154.000000  2.781540e+05  \n",
       "mean      209.103216  1.540959e+12  \n",
       "std        30.151389  1.506829e+09  \n",
       "min       200.000000  1.538352e+12  \n",
       "25%       200.000000  1.539699e+12  \n",
       "50%       200.000000  1.540934e+12  \n",
       "75%       200.000000  1.542268e+12  \n",
       "max       404.000000  1.543799e+12  "
      ]
     },
     "execution_count": 16,
     "metadata": {},
     "output_type": "execute_result"
    }
   ],
   "source": [
    "#Descriptive stats\n",
    "df.toPandas().describe()"
   ]
  },
  {
   "cell_type": "markdown",
   "metadata": {},
   "source": [
    "### Define Churn"
   ]
  },
  {
   "cell_type": "markdown",
   "metadata": {},
   "source": [
    "Once I have done some preliminary analysis, I create the Churn column to be used as a label for my model. I suggest that I can  use the Cancellation Confirmation events to define my churn, which happens for both paid and free users."
   ]
  },
  {
   "cell_type": "code",
   "execution_count": 17,
   "metadata": {},
   "outputs": [],
   "source": [
    "#Since I described churn as users who have the cancelation confirmation in the dataset, I add a new column called \"churnInfo\" as a flag for the customers who have churned.\n",
    "\n",
    "# Add the Churn column\n",
    "flag_cancel_event = udf(lambda x: 1 if x == \"Cancellation Confirmation\" else 0, IntegerType())\n",
    "df = df.withColumn(\"churnInfo\", flag_cancel_event(\"page\"))\n",
    "\n",
    "# Flag all the rows for the customers who churned.\n",
    "windowval = Window.partitionBy(\"userId\").orderBy(desc(\"ts\")).rangeBetween(Window.unboundedPreceding, 0)\n",
    "df = df.withColumn(\"churnInfo\", Fsum(\"churnInfo\").over(windowval))"
   ]
  },
  {
   "cell_type": "code",
   "execution_count": 18,
   "metadata": {},
   "outputs": [
    {
     "data": {
      "text/plain": [
       "[Row(artist=None, auth='Cancelled', firstName='Mason', gender='M', itemInSession=10, lastName='Hart', length=None, level='free', location='Corpus Christi, TX', method='GET', page='Cancellation Confirmation', registration=1533157139000, sessionId=174, song=None, status=200, ts=1539318918000, userAgent='\"Mozilla/5.0 (Macintosh; Intel Mac OS X 10_9_4) AppleWebKit/537.36 (KHTML, like Gecko) Chrome/36.0.1985.125 Safari/537.36\"', userId='125', tsDateColumn='2018-10-12 04:35:18', registrationDateColumn='2018-08-01 20:58:59', churnInfo=1)]"
      ]
     },
     "execution_count": 18,
     "metadata": {},
     "output_type": "execute_result"
    }
   ],
   "source": [
    "#Example of Cancellation record\n",
    "df.filter(\"page = 'Cancellation Confirmation'\").head(1)"
   ]
  },
  {
   "cell_type": "markdown",
   "metadata": {},
   "source": [
    "### Explore Data"
   ]
  },
  {
   "cell_type": "markdown",
   "metadata": {},
   "source": [
    "Once I have defined churn, I perform some exploratory data analysis to observe the behavior of users who have stayed vs. users who have churned. I can start by exploring aggregates on these two groups of users, by observing how much of a specific action they have experienced on a given time unit or number of songs played."
   ]
  },
  {
   "cell_type": "markdown",
   "metadata": {},
   "source": [
    "### Definititon of Churn"
   ]
  },
  {
   "cell_type": "markdown",
   "metadata": {},
   "source": [
    "Customer churn is one of the most important metrics for a business.  Customer churn is the percentage of customers that stopped using our company's product or service during a certain time frame.\n",
    "\n",
    "\n",
    "We can calculate churn rate by dividing the number of customers we lost during that time period  by the number of customers we had at the beginning of that time period."
   ]
  },
  {
   "cell_type": "markdown",
   "metadata": {},
   "source": [
    "### Why Do Customers Churn?"
   ]
  },
  {
   "cell_type": "markdown",
   "metadata": {},
   "source": [
    "There are a few likely causes for churn:\n",
    " \n",
    "- Customer no longer values the product\n",
    "\n",
    "- Motivating factors to use the product no longer exists\n",
    "\n",
    "- Customer frustrated with product user experience\n",
    "\n",
    "- The product lacks a mandatory capability required by the user\n",
    "\n",
    "- Value to the customer does not justify the expense\n",
    "\n",
    "- The customer has found/switched to an alternative solution\n",
    "\n",
    "- Damage to product reputation"
   ]
  },
  {
   "cell_type": "code",
   "execution_count": 19,
   "metadata": {},
   "outputs": [
    {
     "name": "stdout",
     "output_type": "stream",
     "text": [
      "There are 225 unique userIds\n",
      "+---------+-----+\n",
      "|churnInfo|count|\n",
      "+---------+-----+\n",
      "|        0|  173|\n",
      "|        1|   52|\n",
      "+---------+-----+\n",
      "\n"
     ]
    },
    {
     "data": {
      "image/png": "[encoded data removed]",
      "text/plain": [
       "<matplotlib.figure.Figure at 0x7fea0edbbc88>"
      ]
     },
     "metadata": {},
     "output_type": "display_data"
    }
   ],
   "source": [
    "print(\"There are \" + str(df.dropDuplicates(['userId']).count()) + \" unique userIds\")\n",
    "\n",
    "# count how many users churn vs the others\n",
    "churn = df.select([\"userId\", \"churnInfo\"]).dropDuplicates().groupBy(\"churnInfo\").count()\n",
    "\n",
    "churn.show()\n",
    "\n",
    "# The ratio of users who churn vs. others\n",
    "pd_df = churn.toPandas()\n",
    "fig=plt.figure(figsize=(7,7))\n",
    "plt.pie(x=pd_df[\"count\"], labels=[\"not churn\",\"churn\"]);"
   ]
  },
  {
   "cell_type": "markdown",
   "metadata": {},
   "source": [
    "Approximately a quarter of the users seem to have churned."
   ]
  },
  {
   "cell_type": "markdown",
   "metadata": {},
   "source": [
    "### Churn Ratios Depending on Number of Songs"
   ]
  },
  {
   "cell_type": "code",
   "execution_count": 20,
   "metadata": {},
   "outputs": [
    {
     "name": "stdout",
     "output_type": "stream",
     "text": [
      "+---------+----------------+\n",
      "|churnInfo|count(churnInfo)|\n",
      "+---------+----------------+\n",
      "|        0|          191714|\n",
      "|        1|           36394|\n",
      "+---------+----------------+\n",
      "\n"
     ]
    }
   ],
   "source": [
    "#Comparison of those who churn and those who do not, by the number of songs played\n",
    "\n",
    "df.select(\"*\").where(df.page == \"NextSong\").groupby(\"churnInfo\").agg(count(\"churnInfo\")).show()\n"
   ]
  },
  {
   "cell_type": "code",
   "execution_count": 21,
   "metadata": {},
   "outputs": [
    {
     "name": "stdout",
     "output_type": "stream",
     "text": [
      "+---------+-------------------------------------------+\n",
      "|churnInfo|(count(churnInfo) / count(DISTINCT userId))|\n",
      "+---------+-------------------------------------------+\n",
      "|        0|                         1108.1734104046243|\n",
      "|        1|                          699.8846153846154|\n",
      "+---------+-------------------------------------------+\n",
      "\n",
      "None\n"
     ]
    },
    {
     "data": {
      "text/plain": [
       "<matplotlib.figure.Figure at 0x7fe9f9019e48>"
      ]
     },
     "metadata": {},
     "output_type": "display_data"
    },
    {
     "data": {
      "image/png": "[encoded data removed]",
      "text/plain": [
       "<matplotlib.figure.Figure at 0x7fea0f5f8d68>"
      ]
     },
     "metadata": {},
     "output_type": "display_data"
    }
   ],
   "source": [
    "#The above data does not seem meaningful. It is more accurate to analyze this on the average number of songs played for each group.\n",
    "\n",
    "print(df.select(\"*\").where(df.page == \"NextSong\").groupby(\"churnInfo\").agg(count(\"churnInfo\")/countDistinct(\"userId\")).show())\n",
    "\n",
    "avg_songs_played = df.select(\"*\").where(df.page == \"NextSong\") \\\n",
    "                                .groupby(\"churnInfo\").agg(count(\"churnInfo\")/countDistinct(\"userId\")).toPandas()\n",
    "\n",
    "plt.figure(figsize=(10,6))\n",
    "avg_songs_played.plot.bar(x='churnInfo', y='(count(churnInfo) / count(DISTINCT userId))', rot=0, legend= None)\n",
    "plt.title('Average Number of Songs Played');\n",
    "plt.show()"
   ]
  },
  {
   "cell_type": "markdown",
   "metadata": {},
   "source": [
    "### Churn Ratios Depending on Level"
   ]
  },
  {
   "cell_type": "code",
   "execution_count": 22,
   "metadata": {
    "scrolled": true
   },
   "outputs": [
    {
     "data": {
      "image/png": "[encoded data removed]",
      "text/plain": [
       "<matplotlib.figure.Figure at 0x7fe9f443b7b8>"
      ]
     },
     "metadata": {},
     "output_type": "display_data"
    }
   ],
   "source": [
    "# Let's analyze the effect of free or paid subscription on churn.\n",
    "\n",
    "churn_percent_by_level = df.dropDuplicates(['userId']).groupby([\"level\"]).agg(sum('churnInfo')/count('userId')).toPandas()\n",
    "\n",
    "churn_percent_by_level.plot.bar(x='level', y='(sum(churnInfo) / count(userId))', rot=0, legend= None)\n",
    "plt.title('Churn Ratios by Account Level');\n",
    "plt.show()\n"
   ]
  },
  {
   "cell_type": "markdown",
   "metadata": {},
   "source": [
    "The free users are slightly more likely to churn than paid users"
   ]
  },
  {
   "cell_type": "markdown",
   "metadata": {},
   "source": [
    "### Churn Ratios Depending on Gender"
   ]
  },
  {
   "cell_type": "code",
   "execution_count": 23,
   "metadata": {},
   "outputs": [
    {
     "data": {
      "text/plain": [
       "<matplotlib.axes._subplots.AxesSubplot at 0x7fe9fb993748>"
      ]
     },
     "execution_count": 23,
     "metadata": {},
     "output_type": "execute_result"
    },
    {
     "data": {
      "image/png": "[encoded data removed]",
      "text/plain": [
       "<matplotlib.figure.Figure at 0x7fe9f9019588>"
      ]
     },
     "metadata": {},
     "output_type": "display_data"
    }
   ],
   "source": [
    "# Lets check the gender distribution in the dataset\n",
    "gender_distribution = df.dropDuplicates(['userId']).groupby('gender').agg(count('userId')).toPandas()\n",
    "gender_distribution.set_index('gender').plot.pie(y='count(userId)', figsize=(4, 4))"
   ]
  },
  {
   "cell_type": "code",
   "execution_count": 24,
   "metadata": {
    "scrolled": false
   },
   "outputs": [
    {
     "data": {
      "image/png": "[encoded data removed]",
      "text/plain": [
       "<matplotlib.figure.Figure at 0x7fe9f463bb70>"
      ]
     },
     "metadata": {},
     "output_type": "display_data"
    },
    {
     "data": {
      "image/png": "[encoded data removed]",
      "text/plain": [
       "<matplotlib.figure.Figure at 0x7fe9f7434940>"
      ]
     },
     "metadata": {},
     "output_type": "display_data"
    }
   ],
   "source": [
    "# Lets compare the genders of customers who churned and did not churn\n",
    "churn_by_gender = df.dropDuplicates(['userId']).groupby(['churnInfo', \"gender\"]).agg(count('userId')).toPandas()\n",
    "sns.barplot(data = churn_by_gender, x='gender', y='count(userId)', hue='churnInfo')\n",
    "\n",
    "churn_percent_by_gender = df.dropDuplicates(['userId']).groupby([\"gender\"]).agg(sum('churnInfo')/count('userId')).toPandas()\n",
    "churn_percent_by_gender.plot.bar(x='gender', y='(sum(churnInfo) / count(userId))', rot=0, legend= None)\n",
    "plt.title('Churn Ratios Depending on Gender');\n",
    "plt.show()"
   ]
  },
  {
   "cell_type": "markdown",
   "metadata": {},
   "source": [
    "The Male population is more likely to churn, relative to the total number of users in their category"
   ]
  },
  {
   "cell_type": "markdown",
   "metadata": {},
   "source": [
    "### Churn Ratios Depending on Diversity"
   ]
  },
  {
   "cell_type": "code",
   "execution_count": 25,
   "metadata": {},
   "outputs": [
    {
     "name": "stdout",
     "output_type": "stream",
     "text": [
      "+---------+------+-------------+\n",
      "|churnInfo|userId|count(artist)|\n",
      "+---------+------+-------------+\n",
      "|        0|100010|          252|\n",
      "|        0|200002|          339|\n",
      "|        1|   125|            8|\n",
      "|        0|   124|         2232|\n",
      "|        1|    51|         1385|\n",
      "|        0|     7|          142|\n",
      "|        0|    15|         1302|\n",
      "|        1|    54|         1744|\n",
      "|        0|   155|          643|\n",
      "|        1|100014|          233|\n",
      "|        0|   132|         1299|\n",
      "|        0|   154|           78|\n",
      "|        1|   101|         1241|\n",
      "|        0|    11|          534|\n",
      "|        0|   138|         1332|\n",
      "|        0|300017|         2070|\n",
      "|        1|100021|          207|\n",
      "|        1|    29|         1804|\n",
      "|        0|    69|          865|\n",
      "|        0|   112|          195|\n",
      "+---------+------+-------------+\n",
      "only showing top 20 rows\n",
      "\n"
     ]
    }
   ],
   "source": [
    "# show total number of different artists that each user listens to\n",
    "df.filter(df[\"artist\"].isNotNull()) \\\n",
    "    .select([\"userId\", \"artist\", \"churnInfo\"]).dropDuplicates() \\\n",
    "    .groupBy([\"churnInfo\", \"userId\"]).agg(count(\"artist\")) \\\n",
    "    .show()"
   ]
  },
  {
   "cell_type": "code",
   "execution_count": 26,
   "metadata": {},
   "outputs": [
    {
     "name": "stdout",
     "output_type": "stream",
     "text": [
      "+---------+------------------+\n",
      "|churnInfo|avg(count(artist))|\n",
      "+---------+------------------+\n",
      "|        0| 749.7861271676301|\n",
      "|        1| 518.6923076923077|\n",
      "+---------+------------------+\n",
      "\n"
     ]
    },
    {
     "data": {
      "image/png": "[encoded data removed]",
      "text/plain": [
       "<matplotlib.figure.Figure at 0x7fea0ed6a550>"
      ]
     },
     "metadata": {},
     "output_type": "display_data"
    }
   ],
   "source": [
    "# show average number of different artists that users listen to between users who churn vs. users who do not churn\n",
    "diversity = df.filter(df[\"artist\"].isNotNull()) \\\n",
    "    .select([\"userId\", \"artist\", \"churnInfo\"]).dropDuplicates() \\\n",
    "    .groupBy([\"churnInfo\", \"userId\"]).agg(count(\"artist\")) \\\n",
    "    .groupBy(\"churnInfo\").agg(avg(\"count(artist)\"))\n",
    "\n",
    "diversity.show()\n",
    "\n",
    "# plot the churn by diversity information\n",
    "pd_df = diversity.toPandas()\n",
    "fig=plt.figure(figsize=(8,6))\n",
    "sns.barplot(x=\"churnInfo\", y=\"avg(count(artist))\", data=pd_df);"
   ]
  },
  {
   "cell_type": "markdown",
   "metadata": {},
   "source": [
    "We observe that users who churn listen to fewer artists. This may be related to the fact that they spend less time in the system."
   ]
  },
  {
   "cell_type": "code",
   "execution_count": 27,
   "metadata": {},
   "outputs": [
    {
     "name": "stdout",
     "output_type": "stream",
     "text": [
      "+---------+------------------+\n",
      "|churnInfo|avg(count(artist))|\n",
      "+---------+------------------+\n",
      "|        0| 70.10344827586206|\n",
      "|        1| 65.69171483622351|\n",
      "+---------+------------------+\n",
      "\n"
     ]
    },
    {
     "data": {
      "image/png": "[encoded data removed]",
      "text/plain": [
       "<matplotlib.figure.Figure at 0x7fe9f4efe390>"
      ]
     },
     "metadata": {},
     "output_type": "display_data"
    }
   ],
   "source": [
    "# show average number of different artists per session that users listen to between users who churn vs. users who do not churn\n",
    "diversity_per_session = df.filter(df[\"artist\"].isNotNull()) \\\n",
    "    .select([\"userId\", \"sessionId\", \"artist\", \"churnInfo\"]).dropDuplicates() \\\n",
    "    .groupBy([\"churnInfo\", \"userId\", \"sessionId\"]).agg(count(\"artist\")) \\\n",
    "    .groupBy(\"churnInfo\").agg(avg(\"count(artist)\"))\n",
    "\n",
    "diversity_per_session.show()\n",
    "\n",
    "# plot the churn by diversity per sessioninformation\n",
    "pd_df = diversity_per_session.toPandas()\n",
    "fig=plt.figure(figsize=(8,6))\n",
    "sns.barplot(x=\"churnInfo\", y=\"avg(count(artist))\", data=pd_df);"
   ]
  },
  {
   "cell_type": "markdown",
   "metadata": {},
   "source": [
    "After this graph, we can say that users who churn listen to fewer artists per session."
   ]
  },
  {
   "cell_type": "code",
   "execution_count": 28,
   "metadata": {},
   "outputs": [
    {
     "name": "stdout",
     "output_type": "stream",
     "text": [
      "+---------+------+---------+----------+\n",
      "|churnInfo|userId|sessionId|max(count)|\n",
      "+---------+------+---------+----------+\n",
      "|        0|   115|      316|        12|\n",
      "|        0|    91|     1840|        12|\n",
      "|        0|    61|      529|        10|\n",
      "|        0|    41|      377|         9|\n",
      "|        0|   132|     1494|         8|\n",
      "|        0|    39|     1052|         7|\n",
      "|        0|   100|      556|         7|\n",
      "|        0|    89|     1271|         7|\n",
      "|        1|   101|      635|         7|\n",
      "|        0|   128|     2206|         7|\n",
      "|        0|300002|      436|         7|\n",
      "|        0|    25|      827|         7|\n",
      "|        0|   124|      708|         7|\n",
      "|        0|    42|     1646|         7|\n",
      "|        0|     6|     1199|         7|\n",
      "|        0|200014|      361|         7|\n",
      "|        0|    95|      541|         7|\n",
      "|        1|   103|     1117|         7|\n",
      "|        0|   124|     1394|         7|\n",
      "|        0|   138|     1305|         7|\n",
      "+---------+------+---------+----------+\n",
      "only showing top 20 rows\n",
      "\n"
     ]
    }
   ],
   "source": [
    "# show highest number of times the same artist was played by each user in each session\n",
    "df.filter(df[\"artist\"].isNotNull()) \\\n",
    "    .groupBy([\"churnInfo\", \"sessionId\", \"userId\", \"artist\"]).count() \\\n",
    "    .groupBy([\"churnInfo\",\"userId\", \"sessionId\"]).agg(Fmax(\"count\")) \\\n",
    "    .orderBy(\"max(count)\", ascending=False).show()"
   ]
  },
  {
   "cell_type": "code",
   "execution_count": 29,
   "metadata": {},
   "outputs": [
    {
     "name": "stdout",
     "output_type": "stream",
     "text": [
      "+---------+------------------+\n",
      "|churnInfo|   avg(max(count))|\n",
      "+---------+------------------+\n",
      "|        0|1.8875391849529781|\n",
      "|        1|1.8439306358381502|\n",
      "+---------+------------------+\n",
      "\n"
     ]
    },
    {
     "data": {
      "image/png": "[encoded data removed]",
      "text/plain": [
       "<matplotlib.figure.Figure at 0x7fe9f3fe5dd8>"
      ]
     },
     "metadata": {},
     "output_type": "display_data"
    }
   ],
   "source": [
    "# show average highest number of times the same artist was played by each user in each session between users who churn vs. users who do not churn\n",
    "repeat_artist_per_session = df.filter(df[\"artist\"].isNotNull()) \\\n",
    "    .groupBy([\"churnInfo\", \"sessionId\", \"userId\", \"artist\"]).count() \\\n",
    "    .groupBy([\"churnInfo\", \"userId\", \"sessionId\"]).agg(Fmax(\"count\")) \\\n",
    "    .groupBy(\"churnInfo\").agg(avg(\"max(count)\"))\n",
    "\n",
    "repeat_artist_per_session.show()\n",
    "\n",
    "\n",
    "# plot the churn by diversity per session\n",
    "pd_df = repeat_artist_per_session.toPandas()\n",
    "fig=plt.figure(figsize=(8,6))\n",
    "sns.barplot(x=\"churnInfo\", y=\"avg(max(count))\", data=pd_df);"
   ]
  },
  {
   "cell_type": "markdown",
   "metadata": {},
   "source": [
    "According to the graph, there is no apparent difference between the users who churn and remain on the system compared to the number of listening to the songs of the same artist"
   ]
  },
  {
   "cell_type": "markdown",
   "metadata": {},
   "source": [
    "### Length of Song"
   ]
  },
  {
   "cell_type": "code",
   "execution_count": 30,
   "metadata": {},
   "outputs": [
    {
     "name": "stdout",
     "output_type": "stream",
     "text": [
      "+------+---------+------------------+\n",
      "|userId|churnInfo|       avg(length)|\n",
      "+------+---------+------------------+\n",
      "|100010|        0|  243.421444909091|\n",
      "|200002|        0|242.91699209302323|\n",
      "|   125|        1|       261.1391375|\n",
      "|   124|        0|248.17653659965666|\n",
      "|    51|        1| 247.8805508289908|\n",
      "|     7|        0|253.56058066666665|\n",
      "|    15|        0|249.37701452978044|\n",
      "|    54|        1|250.38539934530132|\n",
      "|   155|        0|242.41377060975574|\n",
      "|100014|        1| 263.4376345525294|\n",
      "|   132|        0|250.58034431535262|\n",
      "|   154|        0|245.95266559523813|\n",
      "|   101|        1| 249.0061294769059|\n",
      "|    11|        0|246.78510516228766|\n",
      "|   138|        0|247.56032983574823|\n",
      "|300017|        0|247.08341966134319|\n",
      "|100021|        1|250.57902452173914|\n",
      "|    29|        1|249.18017257925987|\n",
      "|    69|        0|254.27913390222233|\n",
      "|   112|        0|246.80347251162794|\n",
      "+------+---------+------------------+\n",
      "only showing top 20 rows\n",
      "\n",
      "+---------+------------------+\n",
      "|churnInfo|       avg(length)|\n",
      "+---------+------------------+\n",
      "|        0|249.20913538880808|\n",
      "|        1| 248.6327956440622|\n",
      "+---------+------------------+\n",
      "\n"
     ]
    },
    {
     "data": {
      "image/png": "[encoded data removed]",
      "text/plain": [
       "<matplotlib.figure.Figure at 0x7fe9f3fe5d68>"
      ]
     },
     "metadata": {},
     "output_type": "display_data"
    }
   ],
   "source": [
    "# show the average length of listening each song per user\n",
    "df.filter(df[\"artist\"].isNotNull()) \\\n",
    "    .groupBy([\"userId\", \"churnInfo\"]).agg(avg(\"length\")) \\\n",
    "    .show()\n",
    "\n",
    "\n",
    "# show the average length of listening each song between users who churn vs. users who do not churn\n",
    "length = df.filter(df[\"artist\"].isNotNull()) \\\n",
    "    .groupBy(\"churnInfo\").agg(avg(\"length\"))\n",
    "\n",
    "length.show()\n",
    "\n",
    "\n",
    "# plot the average length of songs information\n",
    "pd_df = length.toPandas()\n",
    "fig=plt.figure(figsize=(8,6))\n",
    "sns.barplot(x=\"churnInfo\", y=\"avg(length)\", data=pd_df);"
   ]
  },
  {
   "cell_type": "markdown",
   "metadata": {},
   "source": [
    "There is no significant difference between the length of the songs listened by the two user groups."
   ]
  },
  {
   "cell_type": "markdown",
   "metadata": {},
   "source": [
    "## Actions in the Dataset"
   ]
  },
  {
   "cell_type": "code",
   "execution_count": 31,
   "metadata": {},
   "outputs": [
    {
     "name": "stdout",
     "output_type": "stream",
     "text": [
      "+---------+--------------------+------+--------------------+\n",
      "|churnInfo|                page| count|             percent|\n",
      "+---------+--------------------+------+--------------------+\n",
      "|        0|    Submit Downgrade|    54| 2.31471559003815E-4|\n",
      "|        0|      Submit Upgrade|   127|5.443868146941575E-4|\n",
      "|        0|               Error|   220|  9.4303227742295E-4|\n",
      "|        0|       Save Settings|   252| 0.00108020060868447|\n",
      "|        0|             Upgrade|   387|0.001658879506194...|\n",
      "|        0|               About|   439|0.001881778044493...|\n",
      "|        0|                Help|  1215|0.005208110077585837|\n",
      "|        0|            Settings|  1244| 0.00533241887779159|\n",
      "|        0|           Downgrade|  1718|0.007364224784602855|\n",
      "|        0|         Thumbs Down|  2050|0.008787346221441126|\n",
      "|        0|              Logout|  2673|0.011457842170688843|\n",
      "|        0|         Roll Advert|  2966|0.012713789703802134|\n",
      "|        0|          Add Friend|  3641|0.015607184191349823|\n",
      "|        0|     Add to Playlist|  5488|0.023524368811350678|\n",
      "|        0|                Home|  8410| 0.03604955205966823|\n",
      "|        0|           Thumbs Up| 10692| 0.04583136868275537|\n",
      "|        0|            NextSong|191714|  0.8217840456084702|\n",
      "|        1|    Submit Downgrade|     9|2.006062767475035...|\n",
      "|        1|      Submit Upgrade|    32|7.132667617689016E-4|\n",
      "|        1|               Error|    32|7.132667617689016E-4|\n",
      "|        1|Cancellation Conf...|    52|0.001159058487874...|\n",
      "|        1|              Cancel|    52|0.001159058487874...|\n",
      "|        1|               About|    56|0.001248216833095...|\n",
      "|        1|       Save Settings|    58|0.001292796005706134|\n",
      "|        1|             Upgrade|   112|0.002496433666191...|\n",
      "|        1|                Help|   239|0.005327211126961484|\n",
      "|        1|            Settings|   270|0.006018188302425107|\n",
      "|        1|           Downgrade|   337|0.007511590584878745|\n",
      "|        1|         Thumbs Down|   496|0.011055634807417974|\n",
      "|        1|              Logout|   553| 0.01232614122681883|\n",
      "|        1|          Add Friend|   636|0.014176176890156919|\n",
      "|        1|         Roll Advert|   967|0.021554029957203995|\n",
      "|        1|     Add to Playlist|  1038|0.023136590584878745|\n",
      "|        1|                Home|  1672|0.037268188302425106|\n",
      "|        1|           Thumbs Up|  1859| 0.04143634094151213|\n",
      "|        1|            NextSong| 36394|  0.8112072039942939|\n",
      "+---------+--------------------+------+--------------------+\n",
      "\n"
     ]
    },
    {
     "data": {
      "image/png": "[encoded data removed]",
      "text/plain": [
       "<matplotlib.figure.Figure at 0x7fe9f4a034a8>"
      ]
     },
     "metadata": {},
     "output_type": "display_data"
    }
   ],
   "source": [
    "# comparison of the pages between the users who churn vs. users who do not churn\n",
    "pages = df.groupBy([\"churnInfo\",\"page\"]).count() \\\n",
    "    .withColumn(\"percent\", col(\"count\")/Fsum(\"count\").over(Window.partitionBy(\"churnInfo\"))) \\\n",
    "    .orderBy([\"churnInfo\",\"percent\"])\n",
    "\n",
    "pages.show(40)\n",
    "\n",
    "\n",
    "# plot the churn by pages information\n",
    "pd_df = pages.toPandas()\n",
    "fig=plt.figure(figsize=(12,8))\n",
    "sns.barplot(x=\"page\", y=\"percent\", hue=\"churnInfo\", data=pd_df);\n",
    "plt.xticks(rotation=45);\n",
    "\n",
    "# do some chart formatting\n",
    "plt.ylabel(\"percentage\");\n",
    "plt.gca().set_yticklabels(['{:.0f}%'.format(x*100) for x in plt.gca().get_yticks()]);"
   ]
  },
  {
   "cell_type": "markdown",
   "metadata": {},
   "source": [
    "We see that the action \"NextSong\" is clearly dominant in the data."
   ]
  },
  {
   "cell_type": "code",
   "execution_count": 32,
   "metadata": {},
   "outputs": [
    {
     "name": "stdout",
     "output_type": "stream",
     "text": [
      "+--------------------+--------------------+--------------------+--------------------+\n",
      "|                page|       churn_percent|    no_churn_percent|               ratio|\n",
      "+--------------------+--------------------+--------------------+--------------------+\n",
      "|              Cancel|0.001159058487874...|                null|                null|\n",
      "|    Submit Downgrade|2.006062767475035...| 2.31471559003815E-4|-0.13334373514027587|\n",
      "|         Thumbs Down|0.011055634807417974|0.008787346221441126|  0.2581312410841654|\n",
      "|                Home|0.037268188302425106| 0.03604955205966823| 0.03380447670306208|\n",
      "|           Downgrade|0.007511590584878745|0.007364224784602855| 0.02001104048100255|\n",
      "|         Roll Advert|0.021554029957203995|0.012713789703802134|  0.6953269213473097|\n",
      "|              Logout| 0.01232614122681883|0.011457842170688843| 0.07578207512329405|\n",
      "|       Save Settings|0.001292796005706134| 0.00108020060868447| 0.19681103242533338|\n",
      "|Cancellation Conf...|0.001159058487874...|                null|                null|\n",
      "|               About|0.001248216833095...|0.001881778044493...| -0.3366822209729674|\n",
      "|            Settings|0.006018188302425107| 0.00533241887779159|  0.1286038175825992|\n",
      "|     Add to Playlist|0.023136590584878745|0.023524368811350678|-0.01648410758994845|\n",
      "|          Add Friend|0.014176176890156919|0.015607184191349823|-0.09168901216569414|\n",
      "|            NextSong|  0.8112072039942939|  0.8217840456084702|-0.01287058524766671|\n",
      "|           Thumbs Up| 0.04143634094151213| 0.04583136868275537|-0.09589562493028769|\n",
      "|                Help|0.005327211126961484|0.005208110077585837|0.022868381735674514|\n",
      "|             Upgrade|0.002496433666191...|0.001658879506194...|  0.5048914986711488|\n",
      "|               Error|7.132667617689016E-4|  9.4303227742295E-4|-0.24364544157696788|\n",
      "|      Submit Upgrade|7.132667617689016E-4|5.443868146941575E-4| 0.31022049490603965|\n",
      "+--------------------+--------------------+--------------------+--------------------+\n",
      "\n"
     ]
    },
    {
     "data": {
      "image/png": "[encoded data removed]",
      "text/plain": [
       "<matplotlib.figure.Figure at 0x7fe9f55ad358>"
      ]
     },
     "metadata": {},
     "output_type": "display_data"
    }
   ],
   "source": [
    "# show the comparison information in a more visual format\n",
    "pages_churn = pages.filter(pages[\"churnInfo\"]==1).select([\"page\",\"percent\"]).withColumnRenamed('percent','churn_percent')\n",
    "pages_no_churn = pages.filter(pages[\"churnInfo\"]==0).select([\"page\",\"percent\"]).withColumnRenamed('percent','no_churn_percent')\n",
    "\n",
    "# join the tables to be able to compare the data\n",
    "compare_pages = pages_churn.join(pages_no_churn, on=\"page\", how=\"outer\")\n",
    "compare_pages = compare_pages.withColumn(\"ratio\", col(\"churn_percent\")/col(\"no_churn_percent\")-1)\n",
    "\n",
    "compare_pages.show()\n",
    "\n",
    "# plot the pages that are more viewed in the group of \"Churn\" users\n",
    "pd_df = compare_pages.toPandas().dropna()\n",
    "fig=plt.figure(figsize=(12,8))\n",
    "sns.barplot(x=\"page\", y=\"ratio\", data=pd_df);\n",
    "plt.xticks(rotation=45);\n",
    "\n",
    "# do some chart formatting\n",
    "plt.ylabel(\"ratio\");\n",
    "plt.gca().set_yticklabels(['{:.0f}%'.format(x*100) for x in plt.gca().get_yticks()]);"
   ]
  },
  {
   "cell_type": "markdown",
   "metadata": {},
   "source": [
    "In the chart above, the values above 0 show the rate of pages that churn users visit more frequently. Values below 0 show the percentage of pages that churn users visit less.\n",
    "\n",
    "The actions below are noticeably different between the 2 user groups:\n",
    "\n",
    "- number of Thumbs Down\n",
    "- number of Thumbs Up\n",
    "- number of Roll Advert\n",
    "- number of Add Friend\n",
    "- number of Add to Playlist\n",
    "- number of Upgrade"
   ]
  },
  {
   "cell_type": "markdown",
   "metadata": {},
   "source": [
    "### Number of songs in each hour"
   ]
  },
  {
   "cell_type": "code",
   "execution_count": 33,
   "metadata": {},
   "outputs": [
    {
     "data": {
      "image/png": "[encoded data removed]",
      "text/plain": [
       "<matplotlib.figure.Figure at 0x7fe9ff6322e8>"
      ]
     },
     "metadata": {},
     "output_type": "display_data"
    }
   ],
   "source": [
    "get_hour = udf(lambda x: datetime.datetime.fromtimestamp(x/1000).hour)\n",
    "df = df.withColumn(\"hour_of_day\", get_hour(df.ts))\n",
    "\n",
    "# Count the number of songs in each hour of day and store it in a pandas dataframe\n",
    "songs_by_hour = df.select(['song', 'hour_of_day']).where(df.page == 'NextSong').groupby('hour_of_day').agg(count('song')) \\\n",
    "                                                                                    .orderBy('hour_of_day').toPandas()\n",
    "\n",
    "# Change the datatype of \"hour_of_day\" column to integer and sort the rows on this column\n",
    "songs_by_hour = songs_by_hour.astype({\"hour_of_day\": int})\n",
    "songs_by_hour = songs_by_hour.sort_values(by='hour_of_day').reset_index(drop=True)\n",
    "\n",
    "# Plot a chart to visualize the results\n",
    "songs_by_hour.plot.bar(x='hour_of_day', y='count(song)', rot=0, legend= None, stacked=True, width=0.6, figsize=(10, 5))\n",
    "plt.title('Number of Songs Played in Each Hour of the Day');\n",
    "plt.show()"
   ]
  },
  {
   "cell_type": "markdown",
   "metadata": {},
   "source": [
    "### Number of songs played by Top Users"
   ]
  },
  {
   "cell_type": "code",
   "execution_count": 34,
   "metadata": {
    "scrolled": false
   },
   "outputs": [
    {
     "data": {
      "image/png": "[encoded data removed]",
      "text/plain": [
       "<matplotlib.figure.Figure at 0x7fea00517278>"
      ]
     },
     "metadata": {},
     "output_type": "display_data"
    }
   ],
   "source": [
    "songs_df = df.filter(df.song != 'null').groupby('userId').agg(count(df.song).alias('NumSongsPlayed')).orderBy('NumSongsPlayed', ascending=False)\n",
    "songs_df.toPandas().nlargest(50, 'NumSongsPlayed').plot(x='userId', kind='bar', figsize=(18,10))\n",
    "plt.xlabel('User')\n",
    "plt.title('Number of songs played by the Top Users')\n",
    "plt.show()"
   ]
  },
  {
   "cell_type": "markdown",
   "metadata": {},
   "source": [
    "# Feature Engineering\n",
    "Once you've familiarized yourself with the data, build out the features you find promising to train your model on. To work with the full dataset, you can follow the following steps.\n",
    "- Write a script to extract the necessary features from the smaller subset of data\n",
    "- Ensure that your script is scalable, using the best practices discussed in Lesson 3\n",
    "- Try your script on the full data set, debugging your script if necessary\n",
    "\n",
    "If you are working in the classroom workspace, you can just extract features based on the small subset of data contained here. Be sure to transfer over this work to the larger dataset when you work on your Spark cluster."
   ]
  },
  {
   "cell_type": "markdown",
   "metadata": {},
   "source": [
    "### Features From \"page\""
   ]
  },
  {
   "cell_type": "code",
   "execution_count": 35,
   "metadata": {},
   "outputs": [],
   "source": [
    "# Here I define a function to extract features from the page column depending on different page categories\n",
    "def feature_from_page(df, page_category):\n",
    "    output = df.filter(df.page == page_category).groupby('userId') \\\n",
    "                .agg(count('page')).withColumnRenamed('count(page)', page_category)\n",
    "    return output\n",
    "\n",
    "# I make a list of the page categories I would like to add to my features dataframe\n",
    "features_from_page_list = ['Add Friend', 'Add to Playlist', 'Thumbs Down',\n",
    "                           'Thumbs Up', 'Roll Advert','Upgrade']\n"
   ]
  },
  {
   "cell_type": "code",
   "execution_count": 36,
   "metadata": {},
   "outputs": [],
   "source": [
    "# I create a features dataframe.\n",
    "features_df = df.select('userId').dropDuplicates()\n",
    "\n",
    "# I add different features from the page column into features dataframe, I make outer join, in case I have null values\n",
    "# I plan to fill them with zero values.\n",
    "for feat in features_from_page_list:\n",
    "    output = feature_from_page(df, feat)\n",
    "    features_df = features_df.join(output, 'userId', 'outer')"
   ]
  },
  {
   "cell_type": "markdown",
   "metadata": {},
   "source": [
    "### Features From \"df columns\""
   ]
  },
  {
   "cell_type": "markdown",
   "metadata": {},
   "source": [
    "#### Gender"
   ]
  },
  {
   "cell_type": "code",
   "execution_count": 37,
   "metadata": {},
   "outputs": [],
   "source": [
    "# Define a user-defined function to create a new column to change categorical \"gender\" column to numeric.\n",
    "gender_adder = udf(lambda x: 1 if x == 'M' else 0, IntegerType())\n",
    "# Apply the udf to create a new numeric \"gender\" column\n",
    "df = df.withColumn('isMale', gender_adder(df.gender))\n",
    "\n",
    "# Take the userId info and gender for adding the gender info into features dataframe\n",
    "genders_of_users = df.dropDuplicates(['userId']).select(['userId', 'isMale']) \\\n",
    "                                                                .groupby('userId').agg(max('isMale')) \\\n",
    "                                                                .withColumnRenamed('max(isMale)', 'isMale')\n",
    "\n",
    "# add the gender column into features dataframe\n",
    "features_df = features_df.join(genders_of_users, 'userId', 'outer')"
   ]
  },
  {
   "cell_type": "markdown",
   "metadata": {},
   "source": [
    "\n",
    "#### Level"
   ]
  },
  {
   "cell_type": "code",
   "execution_count": 38,
   "metadata": {},
   "outputs": [],
   "source": [
    "# Define a user-defined function to create a new column to change categorical \"level\" column to numeric.\n",
    "level_adder = udf(lambda x: 1 if x == 'paid' else 0, IntegerType())\n",
    "# Apply the udf to create a new numeric \"level\" column\n",
    "df = df.withColumn('isPaid', level_adder(df.level))\n",
    "\n",
    "# Take the userId info and level for adding the level info into features dataframe\n",
    "levels_of_users = df.dropDuplicates(['userId']).select(['userId', 'isPaid']) \\\n",
    "                                                                .groupby('userId').agg(max('isPaid')) \\\n",
    "                                                                .withColumnRenamed('max(isPaid)', 'isPaid')\n",
    "\n",
    "# add the level column into features dataframe\n",
    "features_df = features_df.join(levels_of_users, 'userId', 'outer')"
   ]
  },
  {
   "cell_type": "markdown",
   "metadata": {},
   "source": [
    "#### Number of songs played"
   ]
  },
  {
   "cell_type": "code",
   "execution_count": 39,
   "metadata": {},
   "outputs": [],
   "source": [
    "\n",
    "# Take the userId and number of songs they played\n",
    "number_of_songs = df.select(['userId', 'page']).where(df.page == 'NextSong') \\\n",
    "                                .groupby('userId') \\\n",
    "                                .agg({'page':'count'}) \\\n",
    "                                .withColumnRenamed('count(page)', 'numberOfSongsPlayed')\n",
    "\n",
    "# Add the number of songs column into features dataframe\n",
    "features_df = features_df.join(number_of_songs, 'userId', 'outer')"
   ]
  },
  {
   "cell_type": "markdown",
   "metadata": {},
   "source": [
    "#### Membership Duration"
   ]
  },
  {
   "cell_type": "code",
   "execution_count": 40,
   "metadata": {},
   "outputs": [],
   "source": [
    "# I would like to add the membership duration for each of the users in the dataset\n",
    "membership_duration_days = df.select(['userId', 'ts', 'registration']) \\\n",
    "                             .withColumn('membership_duration', (df.ts - df.registration)/(1000*60*60*24)) \\\n",
    "                                .groupby('userId') \\\n",
    "                                .agg({'membership_duration': 'max'}) \\\n",
    "                                .withColumnRenamed('max(membership_duration)', 'membership_duration')\n",
    "\n",
    "# Add the duration of membership column into features dataframe\n",
    "features_df = features_df.join(membership_duration_days, 'userId', 'outer')"
   ]
  },
  {
   "cell_type": "markdown",
   "metadata": {},
   "source": [
    "#### Add churnInfo as label"
   ]
  },
  {
   "cell_type": "code",
   "execution_count": 41,
   "metadata": {},
   "outputs": [],
   "source": [
    "# Take the userId and churnInfo for adding into features dataframe as a label\n",
    "churn_label = df.dropDuplicates(['userId']).select(['userId', 'churnInfo']) \\\n",
    "                                                                .groupby('userId').agg(max('churnInfo')) \\\n",
    "                                                                .withColumnRenamed('max(churnInfo)', 'churnInfo')\n",
    "\n",
    "# Add the number of songs column into features dataframe\n",
    "features_and_label_df = features_df.join(churn_label, 'userId', 'outer')"
   ]
  },
  {
   "cell_type": "code",
   "execution_count": 42,
   "metadata": {},
   "outputs": [],
   "source": [
    "# Fill the null values in the features dataframe with zero values\n",
    "features_and_label_df = features_and_label_df.fillna(0)"
   ]
  },
  {
   "cell_type": "code",
   "execution_count": 43,
   "metadata": {},
   "outputs": [
    {
     "name": "stdout",
     "output_type": "stream",
     "text": [
      "+------+----------+---------------+-----------+---------+-----------+-------+------+------+-------------------+-------------------+---------+\n",
      "|userId|Add Friend|Add to Playlist|Thumbs Down|Thumbs Up|Roll Advert|Upgrade|isMale|isPaid|numberOfSongsPlayed|membership_duration|churnInfo|\n",
      "+------+----------+---------------+-----------+---------+-----------+-------+------+------+-------------------+-------------------+---------+\n",
      "|100010|         4|              7|          5|       17|         52|      2|     0|     0|                275|  55.64365740740741|        0|\n",
      "|200002|         4|              8|          6|       21|          7|      2|     1|     0|                387|  70.07462962962963|        0|\n",
      "|   125|         0|              0|          0|        0|          1|      0|     1|     0|                  8|  71.31688657407408|        1|\n",
      "|   124|        74|            118|         41|      171|          4|      0|     0|     1|               4079| 131.55591435185184|        0|\n",
      "|    51|        28|             52|         21|      100|          0|      0|     1|     1|               2111| 19.455844907407407|        1|\n",
      "|     7|         1|              5|          1|        7|         16|      2|     1|     0|                150|  72.77818287037037|        0|\n",
      "|    15|        31|             59|         14|       81|          1|      0|     1|     1|               1914| 56.513576388888886|        0|\n",
      "|    54|        33|             72|         29|      163|         47|      1|     0|     1|               2841| 110.75168981481481|        1|\n",
      "|   155|        11|             24|          3|       58|          8|      2|     0|     0|                820| 23.556018518518517|        0|\n",
      "|100014|         6|              7|          3|       17|          2|      0|     1|     1|                257|  85.08340277777778|        1|\n",
      "+------+----------+---------------+-----------+---------+-----------+-------+------+------+-------------------+-------------------+---------+\n",
      "only showing top 10 rows\n",
      "\n"
     ]
    }
   ],
   "source": [
    "features_and_label_df.show(n=10)"
   ]
  },
  {
   "cell_type": "code",
   "execution_count": 44,
   "metadata": {},
   "outputs": [],
   "source": [
    "# I make a list of features names I would like to vectorize in the dataset\n",
    "features = ['Add Friend', 'Add to Playlist', 'Thumbs Up', 'Thumbs Down',\n",
    "            'Roll Advert', 'isMale', 'isPaid', 'numberOfSongsPlayed', 'membership_duration']\n",
    "\n",
    "# I create the vector assembler and use it to vectorize the feature\n",
    "assembler = VectorAssembler(inputCols = features, outputCol = 'vectorized_Features')\n",
    "features_and_label_df = assembler.transform(features_and_label_df)"
   ]
  },
  {
   "cell_type": "code",
   "execution_count": 45,
   "metadata": {},
   "outputs": [],
   "source": [
    "# I scale the features in the dataset \n",
    "scaler = StandardScaler(inputCol = 'vectorized_Features', outputCol = 'scaled_vectorized_feaures')\n",
    "scalerModel = scaler.fit(features_and_label_df)\n",
    "features_and_label_df = scalerModel.transform(features_and_label_df)"
   ]
  },
  {
   "cell_type": "code",
   "execution_count": 46,
   "metadata": {},
   "outputs": [],
   "source": [
    "# I create the data that I will be using to train and test my model. The model_date consists of two parts:\n",
    "    # 1. vectorized and scaled features\n",
    "    # 2. labels\n",
    "model_data = features_and_label_df.select(features_and_label_df['scaled_vectorized_feaures'].alias(\"features\"),\n",
    "                                         features_and_label_df['churnInfo'].alias(\"label\"))"
   ]
  },
  {
   "cell_type": "markdown",
   "metadata": {},
   "source": [
    "# Modeling"
   ]
  },
  {
   "cell_type": "code",
   "execution_count": 47,
   "metadata": {},
   "outputs": [],
   "source": [
    "# Break the dataset into training and testing sets\n",
    "train, test = model_data.randomSplit([0.8, 0.2], seed=42)"
   ]
  },
  {
   "cell_type": "markdown",
   "metadata": {},
   "source": [
    "Since we have a classification problem and we have a relatively small dataset, we can use f1 score as an indicator to compare accuracy of different algoritms."
   ]
  },
  {
   "cell_type": "code",
   "execution_count": 48,
   "metadata": {},
   "outputs": [],
   "source": [
    "# Create a single evaluator for comparing accuracy of different algoritms I train in the following cells\n",
    "evaluator = MulticlassClassificationEvaluator(metricName = 'f1')"
   ]
  },
  {
   "cell_type": "markdown",
   "metadata": {},
   "source": [
    "## Logistic Regression Classifier"
   ]
  },
  {
   "cell_type": "code",
   "execution_count": 49,
   "metadata": {},
   "outputs": [
    {
     "name": "stdout",
     "output_type": "stream",
     "text": [
      "Logistic Regression F1-Score: 71.49\n"
     ]
    }
   ],
   "source": [
    "# Define the model\n",
    "lr = LogisticRegression(elasticNetParam=0)\n",
    "\n",
    "# Define the parameter alternatives to be tested\n",
    "paramGrid_lr = ParamGridBuilder() \\\n",
    "            .addGrid(lr.regParam, [0.0, 0.1]) \\\n",
    "            .addGrid(lr.maxIter, [10, 50]) \\\n",
    "            .build()\n",
    "\n",
    "\n",
    "# Define cross-validation\n",
    "crossval_lr = CrossValidator(estimator = lr,\n",
    "                          estimatorParamMaps = paramGrid_lr,\n",
    "                          evaluator = evaluator,\n",
    "                          numFolds =3)\n",
    "\n",
    "# Train the model with train dataset\n",
    "lr_model = crossval_lr.fit(train)\n",
    "\n",
    "# Make predictions with the model, by using test dataset\n",
    "lr_preds = lr_model.transform(test)\n",
    "\n",
    "# Calculate the f1-score accuracy to compare the performance of the model with other models.\n",
    "lr_f1_score = evaluator.evaluate(lr_preds)\n",
    "print('Logistic Regression F1-Score: {}'.format(round(lr_f1_score*100,2)))"
   ]
  },
  {
   "cell_type": "markdown",
   "metadata": {},
   "source": [
    "## Random Forest Classifier"
   ]
  },
  {
   "cell_type": "code",
   "execution_count": 50,
   "metadata": {},
   "outputs": [
    {
     "name": "stdout",
     "output_type": "stream",
     "text": [
      "Random Forest F1-Score: 80.06\n"
     ]
    }
   ],
   "source": [
    "# Define the model\n",
    "rf = RandomForestClassifier()\n",
    "\n",
    "# Define the parameter alternatives to be tested\n",
    "paramGrid_rf = ParamGridBuilder() \\\n",
    "            .addGrid(rf.numTrees, [20, 30]) \\\n",
    "            .addGrid(rf.maxDepth, [5, 10]) \\\n",
    "            .build()\n",
    "\n",
    "\n",
    "# Define cross-validation\n",
    "crossval_rf = CrossValidator(estimator = rf,\n",
    "                          estimatorParamMaps = paramGrid_rf,\n",
    "                          evaluator = evaluator,\n",
    "                          numFolds =3)\n",
    "\n",
    "# Train the model with train dataset\n",
    "rf_model = crossval_rf.fit(train)\n",
    "\n",
    "# Make predictions with the model, by using test dataset\n",
    "rf_preds = rf_model.transform(test)\n",
    "\n",
    "# Calculate the f1-score accuracy to compare the performance of the model with other models. \n",
    "rf_f1_score = evaluator.evaluate(rf_preds)\n",
    "print('Random Forest F1-Score: {}'.format(round(rf_f1_score*100,2)))"
   ]
  },
  {
   "cell_type": "markdown",
   "metadata": {},
   "source": [
    "## Linear SVC Classifier"
   ]
  },
  {
   "cell_type": "code",
   "execution_count": 51,
   "metadata": {},
   "outputs": [
    {
     "name": "stdout",
     "output_type": "stream",
     "text": [
      "Linear SVC F1-Score: 54.59\n"
     ]
    }
   ],
   "source": [
    "# Define the model\n",
    "lsvc = LinearSVC()\n",
    "\n",
    "# Define the parameter alternatives to be tested\n",
    "paramGrid_lsvc = ParamGridBuilder() \\\n",
    "            .addGrid(lsvc.regParam, [0.01]) \\\n",
    "            .addGrid(lsvc.maxIter, [5]) \\\n",
    "            .build()\n",
    "        \n",
    "\n",
    "# Define cross-validation\n",
    "crossval_lsvc = CrossValidator(estimator = lsvc,\n",
    "                          estimatorParamMaps = paramGrid_lsvc,\n",
    "                          evaluator = evaluator,\n",
    "                          numFolds =3)\n",
    "\n",
    "\n",
    "# Train the model with train dataset\n",
    "lsvc_model = crossval_lsvc.fit(train)\n",
    "\n",
    "# Make predictions with the model, by using test dataset\n",
    "lsvc_preds = lsvc_model.transform(test)\n",
    "\n",
    "# Calculate the f1-score accuracy to compare the performance of the model with other models.\n",
    "lsvc_f1_score = evaluator.evaluate(lsvc_preds)\n",
    "print('Linear SVC F1-Score: {}'.format(round(lsvc_f1_score*100,2)))"
   ]
  },
  {
   "cell_type": "markdown",
   "metadata": {},
   "source": [
    "## Gradient-Boosted Tree Classifier"
   ]
  },
  {
   "cell_type": "code",
   "execution_count": 52,
   "metadata": {},
   "outputs": [
    {
     "name": "stdout",
     "output_type": "stream",
     "text": [
      "Gradient-Boosted Tree F1-Score: 68.5\n"
     ]
    }
   ],
   "source": [
    "# Define the model\n",
    "gbt = GBTClassifier()\n",
    "\n",
    "# Define the parameter alternatives to be tested\n",
    "paramGrid_gbt = ParamGridBuilder() \\\n",
    "            .addGrid(gbt.maxDepth, [5, 10]) \\\n",
    "            .addGrid(gbt.maxIter, [10, 20]) \\\n",
    "            .build()\n",
    "        \n",
    "\n",
    "# Define cross-validation\n",
    "crossval_gbt = CrossValidator(estimator = gbt,\n",
    "                        estimatorParamMaps = paramGrid_gbt,\n",
    "                        evaluator = evaluator,\n",
    "                        numFolds =3)\n",
    "\n",
    "# Train the model with train dataset\n",
    "gbt_model = crossval_gbt.fit(train)\n",
    "\n",
    "# Make predictions with the model, by using test dataset\n",
    "gbt_preds = gbt_model.transform(test)\n",
    "\n",
    "# Calculate the f1-score accuracy to compare the performance of the model with other models.\n",
    "gbt_f1_score = evaluator.evaluate(gbt_preds)\n",
    "print('Gradient-Boosted Tree F1-Score: {}'.format(round(gbt_f1_score*100,2)))"
   ]
  },
  {
   "cell_type": "markdown",
   "metadata": {},
   "source": [
    "# Final Steps\n",
    "Clean up your code, adding comments and renaming variables to make the code easier to read and maintain. Refer to the Spark Project Overview page and Data Scientist Capstone Project Rubric to make sure you are including all components of the capstone project and meet all expectations. Remember, this includes thorough documentation in a README file in a Github repository, as well as a web app or blog post."
   ]
  },
  {
   "cell_type": "code",
   "execution_count": null,
   "metadata": {},
   "outputs": [],
   "source": []
  }
 ],
 "metadata": {
  "kernelspec": {
   "display_name": "Python 3",
   "language": "python",
   "name": "python3"
  },
  "language_info": {
   "codemirror_mode": {
    "name": "ipython",
    "version": 3
   },
   "file_extension": ".py",
   "mimetype": "text/x-python",
   "name": "python",
   "nbconvert_exporter": "python",
   "pygments_lexer": "ipython3",
   "version": "3.6.3"
  }
 },
 "nbformat": 4,
 "nbformat_minor": 2
}
